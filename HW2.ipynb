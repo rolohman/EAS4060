{
 "cells": [
  {
   "cell_type": "markdown",
   "metadata": {},
   "source": [
    "Jupyter notebooks are made up of \"cells\", which are these gray boxes.  You can run them all at once, one at a time, etc.  This is a \"markdown\" cell, which is just text.  You can write plain text, add images, etc.\n",
    "\n",
    "*Italic text*\n",
    "\n",
    "**Bold text**\n",
    "\n",
    "<span style=\"color:blue\">Using HTML to make text in color</span>\n",
    "\n",
    "Click on this cell and then click on the little edit symbol at the upper right of the cell to see how this was formatted."
   ]
  },
  {
   "cell_type": "code",
   "execution_count": null,
   "metadata": {},
   "outputs": [],
   "source": [
    "# This is a comment.  The # symbol makes everything on that line be a comment.\n",
    "# Comments don't do anything, but can be another way to say what is going on in your code\n",
    "# In this cell we are going to import the two packages that were installed using the yml file\n",
    "# the \"as\" part defines a shorter name that we will use below\n",
    "import numpy as np\n",
    "import matplotlib.pyplot as plt"
   ]
  },
  {
   "cell_type": "markdown",
   "metadata": {},
   "source": [
    "Most of the material below is from the JPL/ASF+community-run course on InSAR\n",
    "\n",
    "### Basic Arithmetic Operations\n",
    "\n",
    "Basic arithmetic operations are built into the Python language. Here are some examples. In particular, note that exponentiation is done with the \\*\\* operator."
   ]
  },
  {
   "cell_type": "code",
   "execution_count": null,
   "metadata": {},
   "outputs": [],
   "source": [
    "a = 12\n",
    "b = 2\n",
    "\n",
    "print(a + b)\n",
    "print(a**b)\n",
    "print(a/b)"
   ]
  },
  {
   "cell_type": "markdown",
   "metadata": {},
   "source": [
    "### Python Libraries\n",
    "\n",
    "The Python language has only very basic operations. Most math functions are in various math libraries. The `numpy` library is convenient library.  This next cell shows how to use it to call a common mathematical functions."
   ]
  },
  {
   "cell_type": "code",
   "execution_count": null,
   "metadata": {},
   "outputs": [],
   "source": [
    "# mathematical constants\n",
    "print(np.pi)\n",
    "print(np.e)\n",
    "\n",
    "# trignometric functions\n",
    "angle = np.pi/4\n",
    "print(np.sin(angle))\n",
    "print(np.cos(angle))\n",
    "print(np.tan(angle))"
   ]
  },
  {
   "cell_type": "markdown",
   "metadata": {},
   "source": [
    "### Arrays\n",
    "\n",
    "We will use arrays/matrices as images, time series, and systems of equations.  Numpy allows use to build \"ndarrays\", which stand for N-dimensional arrays"
   ]
  },
  {
   "cell_type": "code",
   "execution_count": null,
   "metadata": {},
   "outputs": [],
   "source": [
    "#Build some arrays with predefined values\n",
    "#1-dimensional array\n",
    "\n",
    "a=np.array([1,2,3,4])\n",
    "print('The shape of a is: '+str(np.shape(a))) #see how I combined a text string in quotes, with a + sign and another string? (str(number))\n",
    "print(a)\n",
    "\n",
    "#see how this was a (4,) array?  This is sometimes inconvenient when we want to multiply matrices. \n",
    "#Here is how you force it to be 1x4 (one row, 4 columns)\n",
    "a=np.array([[1,2,3,4]])\n",
    "print('The shape of a is: '+str(np.shape(a))) \n",
    "print(a)\n",
    "\n",
    "#3 row by 4 column (3x4) array \n",
    "\n",
    "b=np.array([[1,2,3,4],[2,3,6,5],[5,3,2.6,np.pi]])\n",
    "print('The shape of b is: '+str(np.shape(b))) \n",
    "print(b)\n",
    "\n",
    "#2x3 matrix filled with normally-distributed random numbers\n",
    "c=np.random.randn(2,3)\n",
    "print('The shape of c is: '+str(np.shape(c))) \n",
    "print(c)\n",
    "\n",
    "#4x1 matrix of ones\n",
    "d=np.ones((4,1))\n",
    "print('The shape of d is: '+str(np.shape(d))) \n",
    "print(d)\n"
   ]
  },
  {
   "cell_type": "code",
   "execution_count": null,
   "metadata": {},
   "outputs": [],
   "source": [
    "#We can multiply a 2x3 matrix by a 3x4 matrix to get a 2x4 matrix\n",
    "e=np.matmul(c,b)\n",
    "print('e=a*d=')\n",
    "print(e)\n",
    "# or a 4x1 by a 1x4 to get a 4x4 matrix\n",
    "f=np.matmul(d,a)\n",
    "print('f=d*a=')\n",
    "print(f)"
   ]
  },
  {
   "cell_type": "markdown",
   "metadata": {},
   "source": [
    "### caution about \"*\"\n",
    "\n",
    "Typing a*b does not generally do matrix multiplication.  It does element by element multiplication.  If you have a 1x4 and a 1x4 array, it gives you a 1x4 array with the products of each element.  Make sure you can follow each of the below operations with our test matrix, a"
   ]
  },
  {
   "cell_type": "code",
   "execution_count": null,
   "metadata": {},
   "outputs": [],
   "source": [
    "g=a*np.transpose(a)\n",
    "print('a*a^T')\n",
    "print(g)\n",
    "\n",
    "g2=np.matmul(a,np.transpose(a))\n",
    "print('matmul(a,a^T)')\n",
    "print(g2)\n",
    "\n",
    "print('a*a')\n",
    "h=a*a\n",
    "print(h)"
   ]
  },
  {
   "cell_type": "markdown",
   "metadata": {},
   "source": [
    "## HW2A Part 1\n",
    "\n",
    "Here, replicate the operations that you did in the homework.  Generate the matrices for the first two problems, then multiply them and print the output.  \n",
    "\n",
    "Then generate the two matrices for the 2nd part (inverse of square matrices).  Use the command np.inv() to compute the inverse and then print it out.  "
   ]
  },
  {
   "cell_type": "code",
   "execution_count": null,
   "metadata": {},
   "outputs": [],
   "source": [
    "## Do your work in this cell"
   ]
  },
  {
   "cell_type": "markdown",
   "metadata": {},
   "source": [
    "## Plotting\n",
    "\n",
    "Now we are going to quickly plot some things."
   ]
  },
  {
   "cell_type": "code",
   "execution_count": null,
   "metadata": {},
   "outputs": [],
   "source": [
    "###Line plot\n",
    "\n",
    "x = np.linspace(0,10)\n",
    "y = np.sin(x)\n",
    "z = np.cos(x)\n",
    "\n",
    "plt.plot(x,y,'b',label='Sin')\n",
    "plt.plot(x,z,'r',label='Cos')\n",
    "plt.xlabel('Radians');\n",
    "plt.ylabel('Value');\n",
    "plt.title('Plotting Demonstration')\n",
    "plt.legend()\n",
    "plt.grid()\n",
    "\n",
    "plt.show() # this isn't required, but suppresses some useless output"
   ]
  },
  {
   "cell_type": "markdown",
   "metadata": {},
   "source": [
    "##  HW2A Part 2\n",
    "\n",
    "Repeat the above plot, but make the lines dash-dotted, and make one of them magenta and the other black.  Look at the following link for help (near the bottom)\n",
    "https://matplotlib.org/stable/api/_as_gen/matplotlib.pyplot.plot.html\n",
    "\n",
    "There is LOTS of additional info at: https://matplotlib.org/index.html\n"
   ]
  },
  {
   "cell_type": "code",
   "execution_count": null,
   "metadata": {},
   "outputs": [],
   "source": [
    "## Do your work here"
   ]
  },
  {
   "cell_type": "code",
   "execution_count": null,
   "metadata": {},
   "outputs": [],
   "source": [
    "#Even though it's not a real image, we can still show our 2-dimensional matrices as if they ARE an image\n",
    "plt.imshow(c)\n",
    "plt.xlabel('Some-physical-parameter');\n",
    "plt.ylabel('SomethingElse');\n",
    "plt.title('Plotting an image')\n",
    "plt.colorbar()\n",
    "plt.show()"
   ]
  },
  {
   "cell_type": "markdown",
   "metadata": {},
   "source": [
    "## HW2a Part 3\n",
    "\n",
    "Replicate the above plot, but with one of the \"diverging\" colormaps on this page:\n",
    "https://matplotlib.org/stable/users/explain/colors/colormaps.html\n",
    "\n",
    "Go to the imshow page to see what the syntax is for changing the colormap used in the image\n",
    "https://matplotlib.org/stable/api/_as_gen/matplotlib.pyplot.imshow.html\n",
    "\n"
   ]
  },
  {
   "cell_type": "code",
   "execution_count": null,
   "metadata": {},
   "outputs": [],
   "source": [
    "## Do your work here"
   ]
  }
 ],
 "metadata": {
  "kernelspec": {
   "display_name": "Python 3",
   "language": "python",
   "name": "python3"
  },
  "language_info": {
   "codemirror_mode": {
    "name": "ipython",
    "version": 3
   },
   "file_extension": ".py",
   "mimetype": "text/x-python",
   "name": "python",
   "nbconvert_exporter": "python",
   "pygments_lexer": "ipython3",
   "version": "3.12.5"
  }
 },
 "nbformat": 4,
 "nbformat_minor": 2
}
